{
 "cells": [
  {
   "cell_type": "code",
   "execution_count": 1,
   "metadata": {},
   "outputs": [],
   "source": [
    "import csv\n",
    "import numpy as np\n",
    "#import the data to Python \n",
    "with open('/Users/zhejindong/Desktop/EECS6720-hw1-data/X_train.csv') as csvfile:\n",
    "    readCSV=csv.reader(csvfile,delimiter=',')\n",
    "    data=[]\n",
    "    for row in readCSV:\n",
    "        for i in range(len(row)):\n",
    "            data.append(float(row[i]))\n",
    "\n",
    "x_train=np.array(data).reshape([4140,54])\n",
    "\n",
    "with open('/Users/zhejindong/Desktop/EECS6720-hw1-data/X_test.csv') as csvfile:\n",
    "    readCSV=csv.reader(csvfile,delimiter=',')\n",
    "    line=readCSV.line_num\n",
    "    data=[]\n",
    "    for row in readCSV:\n",
    "        for i in range(len(row)):\n",
    "            data.append(np.float64(row[i]))\n",
    "            \n",
    "x_test=np.array(data).reshape([461,54])\n",
    "\n",
    "with open('/Users/zhejindong/Desktop/EECS6720-hw1-data/label_train.csv') as csvfile:\n",
    "    readCSV=csv.reader(csvfile,delimiter=',')\n",
    "    data=[]\n",
    "    for row in readCSV:\n",
    "        for i in range(len(row)):\n",
    "            data.append(float(row[i]))\n",
    "            \n",
    "y_train=np.array(data).reshape([4140])\n",
    "\n",
    "with open('/Users/zhejindong/Desktop/EECS6720-hw1-data/label_test.csv') as csvfile:\n",
    "    readCSV=csv.reader(csvfile,delimiter=',')\n",
    "    data=[]\n",
    "    for row in readCSV:\n",
    "        for i in range(len(row)):\n",
    "            data.append(float(row[i]))\n",
    "            \n",
    "y_test=np.array(data).reshape([461])\n",
    "\n",
    "\n",
    "# import the content of emails \n",
    "f = open('/Users/zhejindong/Desktop/EECS6720-hw1-data/README')\n",
    "words=f.read()\n",
    "words=words.split('\\n')\n",
    "words=words[3:-1]"
   ]
  },
  {
   "cell_type": "markdown",
   "metadata": {},
   "source": [
    "Each 54-dimensional vector x has a label y with y = 0 indicating “non-spam” and y = 1 indicating\n",
    "“spam”. We model the nth feature vector of a spam email as \n",
    "p(xn| 1, yn = 1) ~ Poisson(xn,d| 1,d), d=1 and similarly for class 0. We model the labels as \n",
    "yn ~ Bernoulli(lambda). Assume independent gamma priors on all  1,d and  0,d, as in Problem 3, with a = 1 and b = 1. For the label bias assume the prior ~ Beta(e,f) and set e = f = 1."
   ]
  },
  {
   "cell_type": "code",
   "execution_count": 2,
   "metadata": {},
   "outputs": [],
   "source": [
    "#build the bayesian model \n",
    "# y2: new y2 under prediction p(y2 = 1|y_train)      p(x∗|y∗ = y, {xi : yi = y})\n",
    "import scipy\n",
    "import math\n",
    "from scipy.special import gamma, factorial\n",
    "N=y_train.shape[0]\n",
    "e=1 # parameter of Beta distribution \n",
    "f=1 # parameter of Beta distribution \n",
    "a=1 # parameter of gamma distribution \n",
    "b=1 # parameter of gamma distribution \n",
    "np.float64(x_train)\n",
    "np.float64(x_test)\n",
    "\n",
    "def log_factor(x):\n",
    "    log=0\n",
    "    while x!=0:\n",
    "        log+=math.log(x)\n",
    "        x-=1  \n",
    "    return log\n",
    "\n",
    "def prob1(x_test):\n",
    "    prob=0\n",
    "    p_y2_y_train=(e+sum(y_train))/((N+e+f)*1.0)\n",
    "    for i in range(54): # calculating the probability of bing a spam email, using log() to avoid overflow \n",
    "            gamma_para1=sum(x_train[y_train==1][:,i])+a \n",
    "            gamma_para2=sum(x_train[y_train==1][:,i])+a+x_test[i]\n",
    "            gamma_numerator=0\n",
    "            gamma_de=0\n",
    "            while gamma_para1!=1:\n",
    "                gamma_numerator+=math.log(gamma_para1-1)\n",
    "                gamma_para1-=1\n",
    "            while gamma_para2!=1:\n",
    "                gamma_de+=math.log(gamma_para2-1)\n",
    "                gamma_para2-=1  \n",
    "            \n",
    "            prob=prob+(gamma_de+gamma_para1*math.log(N+b)-gamma_numerator-log_factor(x_test[i])-gamma_para2*math.log(N+b+1))\n",
    "            \n",
    "    prob=math.log(p_y2_y_train)+prob          \n",
    "    return prob\n",
    "\n",
    "def prob0(x_test):\n",
    "    prob=0\n",
    "    p_y2_y_train=(f+y_train.shape[0]-sum(y_train))/((N+e+f)*1.0)\n",
    "    for i in range(54): # calculating the probability of bing a non-spam email, using log() to avoid overflow \n",
    "            #print(i)\n",
    "            gamma_para1=sum(x_train[y_train==0][:,i])+a\n",
    "            gamma_para2=sum(x_train[y_train==0][:,i])+a+x_test[i]     \n",
    "            gamma_numerator=0\n",
    "            gamma_de=0\n",
    "            while gamma_para1!=1:\n",
    "                gamma_numerator+=math.log(gamma_para1-1)\n",
    "                gamma_para1-=1\n",
    "        #print('gamma_numerator is',gamma_numerator)\n",
    "            while gamma_para2!=1:\n",
    "                gamma_de+=math.log(gamma_para2-1)\n",
    "                gamma_para2-=1      \n",
    "                \n",
    "            prob=prob+(gamma_de+gamma_para1*math.log(N+b)-gamma_numerator-log_factor(x_test[i])-gamma_para2*math.log(N+b+1))\n",
    "    \n",
    "    prob+=math.log(p_y2_y_train)\n",
    "    return prob\n",
    "\n",
    "def prob1_analysis(x_test):\n",
    "    prob=np.full((54),-1)\n",
    "    lamda=np.full((54),-1)\n",
    "    for i in range(54):\n",
    "            gamma_para1=sum(x_train[y_train==1][:,i])+a \n",
    "            gamma_para2=sum(x_train[y_train==1][:,i])+a+x_test[i]\n",
    "            lamda[i]=(gamma_para1*1.0)/(b+N)\n",
    "            gamma_numerator=0\n",
    "            gamma_de=0\n",
    "            while gamma_para1!=1:\n",
    "                gamma_numerator+=math.log(gamma_para1-1)\n",
    "                gamma_para1-=1\n",
    "            while gamma_para2!=1:\n",
    "                gamma_de+=math.log(gamma_para2-1)\n",
    "                gamma_para2-=1  \n",
    "            # calculate the log of probability \n",
    "            prob[i]=(gamma_de+gamma_para1*math.log(N+b)-gamma_numerator-log_factor(x_test[i])-gamma_para2*math.log(N+b+1))\n",
    "            \n",
    "    return [prob,lamda] \n",
    "\n",
    "def prob0_analysis(x_test):\n",
    "    prob=np.full((54),-1)\n",
    "    lamda=np.full((54),-1)\n",
    "    for i in range(54):\n",
    "            gamma_para1=sum(x_train[y_train==0][:,i])+a\n",
    "            gamma_para2=sum(x_train[y_train==0][:,i])+a+x_test[i]  \n",
    "            lamda[i]=(gamma_para1*1.0)/(b+N)\n",
    "            gamma_numerator=0\n",
    "            gamma_de=0\n",
    "            while gamma_para1!=1:\n",
    "                gamma_numerator+=math.log(gamma_para1-1)\n",
    "                gamma_para1-=1\n",
    "            while gamma_para2!=1:\n",
    "                gamma_de+=math.log(gamma_para2-1)\n",
    "                gamma_para2-=1      \n",
    "                \n",
    "            prob[i]=(gamma_de+gamma_para1*math.log(N+b)-gamma_numerator-log_factor(x_test[i])-gamma_para2*math.log(N+b+1))\n",
    "\n",
    "    return [prob,lamda]"
   ]
  },
  {
   "cell_type": "code",
   "execution_count": 3,
   "metadata": {},
   "outputs": [],
   "source": [
    "#probability and prediction \n",
    "probability=np.full((x_test.shape[0]),-1.0)\n",
    "prediction=np.full((x_test.shape[0]),-1)\n",
    "for i in range(x_test.shape[0]):\n",
    "    probability[i]=prob1(x_test[i])-prob0(x_test[i])\n",
    "    \n",
    "for i in range(x_test.shape[0]):\n",
    "    if probability[i]>0:\n",
    "        prediction[i]=1\n",
    "    else:\n",
    "        prediction[i]=0"
   ]
  },
  {
   "cell_type": "code",
   "execution_count": 16,
   "metadata": {},
   "outputs": [
    {
     "data": {
      "text/plain": [
       "260.27190734732835"
      ]
     },
     "execution_count": 16,
     "metadata": {},
     "output_type": "execute_result"
    }
   ],
   "source": [
    "probability[7]"
   ]
  },
  {
   "cell_type": "code",
   "execution_count": 15,
   "metadata": {},
   "outputs": [
    {
     "data": {
      "text/plain": [
       "1.0830615930252809e+113"
      ]
     },
     "execution_count": 15,
     "metadata": {},
     "output_type": "execute_result"
    }
   ],
   "source": [
    "math.exp(probability[7])"
   ]
  },
  {
   "cell_type": "code",
   "execution_count": 13,
   "metadata": {},
   "outputs": [
    {
     "data": {
      "text/plain": [
       "array([263, 402, 227, 349, 323, 221, 325, 244, 366, 365, 367, 363, 362,\n",
       "       364, 357, 210, 382, 215, 389, 302, 359, 358, 369, 188, 266, 339,\n",
       "       196, 272, 297, 269, 229, 212, 293, 259, 242, 375, 400, 201, 222,\n",
       "       240, 337, 276, 247, 216, 264, 318, 328, 333, 383, 220, 289, 194,\n",
       "       288, 458, 324, 388, 192, 428, 275, 277, 203, 214, 295, 257, 334,\n",
       "       384, 246, 393, 224, 186, 399, 316, 270, 267, 311, 332, 352, 347,\n",
       "       274, 373, 391, 238, 307, 206, 330, 401,  25, 183, 439, 284, 185,\n",
       "       387, 285, 342, 412, 253, 317, 385, 189, 262, 245, 408, 260, 235,\n",
       "       379, 381, 271, 343, 398, 394, 396, 380, 374, 432, 299, 208, 309,\n",
       "       232, 265, 200, 290, 441, 231, 283, 230, 378, 205, 294, 300, 282,\n",
       "       197, 313, 312, 310, 308, 314, 456, 395, 254, 301, 305, 319, 211,\n",
       "       195, 351, 340, 338, 209, 452, 202, 451, 346, 442, 354, 386,  87,\n",
       "       252, 321, 168, 233, 322, 320, 217, 447, 154, 169, 429, 287, 377,\n",
       "       356, 420, 410, 315, 418, 355, 298, 191, 450, 171, 286, 213, 223,\n",
       "       424, 444, 279, 416, 241, 281, 445, 304, 261, 198, 335, 199, 454,\n",
       "       193, 460, 236, 405, 350, 273, 348, 326, 433, 457, 426, 248, 256,\n",
       "       427, 407, 292, 413, 344, 409, 431, 239, 430, 438, 204, 226, 425,\n",
       "       449, 415, 218, 397, 268, 129, 329, 353, 234, 303, 446, 306, 434,\n",
       "       411, 296, 371, 435, 255, 390, 182, 372, 404, 455, 207,  50, 361,\n",
       "       341, 243, 170, 280, 219, 368, 360, 336, 419, 187, 459, 278,   2,\n",
       "       392, 406, 228,  45, 291,   3, 102, 370, 423,  24, 184, 417,  37,\n",
       "       443, 111, 327, 164,  55,  33,   5, 345, 440, 138,   6, 110, 421,\n",
       "        73, 453,  17,  12,  65, 331, 403,  31, 225, 237,   0, 139,   8,\n",
       "       448, 156, 437,  56,  99, 153,  89,  44, 143, 152,  86, 123, 155,\n",
       "       121, 127,  97, 414,  23,  27, 144, 116, 180,  52,  76, 133,  36,\n",
       "        46,  39, 249,  35, 161,  54,  81, 158, 376, 149,  13, 174, 436,\n",
       "       167, 190, 124, 250,   1,  72, 105, 115, 113, 108, 103,  21,  47,\n",
       "       135, 422, 130,  51,  66,  18, 160,  92,  74,  34,  32,  82, 251,\n",
       "       100, 106,  90, 118, 173, 114, 181,  69,  94,  26,  16, 142,  78,\n",
       "        40,  15,  84,  80,  59, 125,  93, 258, 177, 165, 112, 107,  70,\n",
       "         4,  79, 104, 148,  91, 147,  68, 178, 175, 131,  58,  63,  71,\n",
       "       145, 117,  38, 120, 151,  60, 109,  75, 134, 172,  10,  43,  14,\n",
       "       141,  53,  28,  61, 132,  88, 119, 162, 126, 150,  85, 140,   9,\n",
       "        20,  11, 157,  41,  64, 136, 128,  98,  22,  19,  49, 146,  48,\n",
       "        62,  95,  96,  67,  30, 159, 137, 122,  57, 179,  42, 176, 101,\n",
       "        83,  29,   7, 166,  77, 163])"
      ]
     },
     "execution_count": 13,
     "metadata": {},
     "output_type": "execute_result"
    }
   ],
   "source": [
    "np.argsort(probability)"
   ]
  },
  {
   "cell_type": "code",
   "execution_count": 4,
   "metadata": {},
   "outputs": [],
   "source": [
    "# select the misclassified emails\n",
    "wrong_index=np.argwhere(y_test!=prediction).reshape((1,42))"
   ]
  },
  {
   "cell_type": "code",
   "execution_count": 5,
   "metadata": {},
   "outputs": [
    {
     "data": {
      "text/plain": [
       "array([419, 360, 243, 336, 341, 361, 368,  50, 372, 390])"
      ]
     },
     "execution_count": 5,
     "metadata": {},
     "output_type": "execute_result"
    }
   ],
   "source": [
    "# select 10 emails with most ambiguous probability \n",
    "np.argsort(abs(probability))[:10]"
   ]
  },
  {
   "cell_type": "code",
   "execution_count": 6,
   "metadata": {},
   "outputs": [],
   "source": [
    "# Pick three misclassified emails and for each email plot its features x compared with E[~ 1] and E[~ 0], \n",
    "#and give the predictive probabilities for that email.\n",
    "import seaborn\n",
    "from matplotlib import pyplot as plt  \n",
    "x_axis1=prob1_analysis(x_test[327])[0]\n",
    "x_axis0=prob0_analysis(x_test[327])[0]\n",
    "lamda1=prob1_analysis(x_test[327])[1]\n",
    "lamda0=prob0_analysis(x_test[327])[1]\n",
    "average_lamda1=np.mean(lamda1)\n",
    "average_lamda0=np.mean(lamda0)\n",
    "mistake=seaborn.stripplot(x=words,y=lamda1,color='r')\n",
    "mistake=seaborn.stripplot(x=words,y=lamda0, color='b')\n",
    "plt.bar(words,x_test[87],color=\"gray\") \n",
    "plt.title('misclassified email_1')\n",
    "plt.xlabel('words')\n",
    "plt.ylabel('feature value')\n",
    "plt.xticks(rotation=90)\n",
    "plt.savefig('/Users/zhejindong/Desktop/EECS6720-hw1-data/1.jpg')"
   ]
  },
  {
   "cell_type": "code",
   "execution_count": null,
   "metadata": {},
   "outputs": [],
   "source": []
  }
 ],
 "metadata": {
  "kernelspec": {
   "display_name": "Python 2",
   "language": "python",
   "name": "python2"
  },
  "language_info": {
   "codemirror_mode": {
    "name": "ipython",
    "version": 2
   },
   "file_extension": ".py",
   "mimetype": "text/x-python",
   "name": "python",
   "nbconvert_exporter": "python",
   "pygments_lexer": "ipython2",
   "version": "2.7.15"
  }
 },
 "nbformat": 4,
 "nbformat_minor": 2
}
