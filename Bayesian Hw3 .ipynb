{
 "cells": [
  {
   "cell_type": "code",
   "execution_count": 23,
   "metadata": {},
   "outputs": [],
   "source": [
    "from numpy import *\n",
    "import scipy.special \n",
    "import csv\n",
    "import numpy as np\n",
    "import math\n",
    "from scipy import stats\n",
    "from scipy.stats import norm\n",
    "from scipy.stats import gamma\n",
    "#import the data to Python \n",
    "with open('/Users/zhejindong/Downloads/data_csv/X_set3.csv') as csvfile:\n",
    "    readCSV=csv.reader(csvfile)\n",
    "    x1=[]\n",
    "    for row in readCSV:\n",
    "        x1.append(row)\n",
    "\n",
    "for i in range(len(x1)):\n",
    "    for j in range(len(x1[i])):\n",
    "        x1[i][j]=float(x1[i][j])\n",
    "\n",
    "X1=np.mat(x1).T\n",
    "\n",
    "with open('/Users/zhejindong/Downloads/data_csv/y_set3.csv') as csvfile:\n",
    "    readCSV=csv.reader(csvfile)\n",
    "    y1=[]\n",
    "    for row in readCSV:\n",
    "        y1.append(row)\n",
    "        \n",
    "with open('/Users/zhejindong/Downloads/data_csv/y_set3.csv') as csvfile:\n",
    "    readCSV=csv.reader(csvfile)\n",
    "    y1=[]\n",
    "    for row in readCSV:\n",
    "        y1.append(row)\n",
    "\n",
    "for i in range(len(y1)):\n",
    "    for j in range(len(y1[i])):\n",
    "        y1[i][j]=float(y1[i][j])    \n",
    "Y1=np.mat(y1)\n",
    "\n",
    "\n",
    "\n",
    "with open('/Users/zhejindong/Downloads/data_csv/z_set3.csv') as csvfile:\n",
    "    readCSV=csv.reader(csvfile)\n",
    "    z1=[]\n",
    "    for row in readCSV:\n",
    "        z1.append(row)\n",
    "\n",
    "for i in range(len(y1)):\n",
    "    for j in range(len(y1[i])):\n",
    "        z1[i][j]=float(y1[i][j])    \n"
   ]
  },
  {
   "cell_type": "markdown",
   "metadata": {},
   "source": [
    "## VI + Mean Field theory to update parameters"
   ]
  },
  {
   "cell_type": "code",
   "execution_count": 42,
   "metadata": {},
   "outputs": [],
   "source": [
    "# initialize the prior parameters\n",
    "a0=1e-16\n",
    "b0=1e-16\n",
    "e0=1.0\n",
    "f0=1.0\n",
    "d=X1.shape[0]# total number of unknown paramters \n",
    "n=X1.shape[1] # total number of data\n",
    "# inintialize the disribution for alpha, w and lamda: alpha is a dim vector\n",
    "a1=1.0 # parameters of q(alpha)\n",
    "b1=1.0 # parameters of q(alpha)\n",
    "e1=1.0 # parameters of q(lamda)\n",
    "f1=1.0 # parameters of q(lamda)\n",
    "#alpha= stats.gamma.rvs(a1,loc=0,scale=b1, size=d) \n",
    "alpha= stats.gamma.rvs(a1,loc=0,scale=b1, size=d) \n",
    "alpha=matrix(alpha).T # (101, 1) 0\n",
    "diag=np.dot(np.eye(d, dtype=int),alpha)\n",
    "diag=np.mat(np.diag(diag.A[ :, 0 ])) #(101, 101) the covariance of w not necessarily be diagnal \n",
    "lamda=stats.gamma.rvs(e1,loc=0,scale=f1,size=1) # lamda is a scalar #0.57197373\n",
    "mean=np.random.normal(0,1,d)\n",
    "w=np.random.multivariate_normal(mean, diag) \n",
    "w=np.mat(w)#(1, 101) \n",
    "mean=matrix(mean) #(1, 101) \n",
    "# "
   ]
  },
  {
   "cell_type": "code",
   "execution_count": 43,
   "metadata": {},
   "outputs": [],
   "source": [
    "def log_gamma(x):\n",
    "    log=0\n",
    "    while x!=0:\n",
    "        log+=math.log(x)\n",
    "        x-=1  \n",
    "    return log\n",
    "\n",
    "#log_gamma(251)"
   ]
  },
  {
   "cell_type": "code",
   "execution_count": 44,
   "metadata": {},
   "outputs": [],
   "source": [
    "# interately update lamda, alpha and w \n",
    "Sum=[]\n",
    "for iteration in range(0,500):\n",
    "    #update alpha\n",
    "    B=np.diag(diag).reshape((d, 1))+np.array(mean)*np.array(mean)\n",
    "    #alpha= matrix(stats.gamma.rvs(a0+1/2.0,loc=0,scale=b0+B, size=d)).T\n",
    "    a1=a0+1/2.0\n",
    "    b1=b0+B/2\n",
    "    #update w\n",
    "    #diag=np.dot(np.eye(d, dtype=int),np.mat(a1/b1).T)\n",
    "    diag=np.mat(np.diag(np.mat(a1/b1).A[ :, 0 ]))+e1/f1*X1.dot(X1.T)\n",
    "    diag=diag.I\n",
    "    mean=np.dot(diag,(e1/f1)*X1.dot(Y1))\n",
    "    #update lamda\n",
    "    e1=n/2.0+e0\n",
    "    F=(np.square(Y1-np.dot(X1.T,mean)).sum()/2)+np.diag((X1.T*diag*X1)).sum()/2\n",
    "    f1=f0+F\n",
    "    L1=n/2.0*scipy.special.digamma(e1)-n/2.0*np.log(2*pi)-e1/f1*F\n",
    "    L2=(a1-np.log(b1)).sum()/2-np.log(2*pi)/2-(B*(a1/b1)).sum()/2\n",
    "    L3=d*a0*np.log(a0)+(a0-1)*(scipy.special.digamma(a1)-np.log(b1)).sum()-(a1/b1).sum()*b0-d*np.log(scipy.special.gamma(a0))\n",
    "    L4=e0*np.log(f0)+(e0-1)*(scipy.special.digamma(e1)-np.log(f1))-f0*e1/f1-np.log(scipy.special.gamma(e0))\n",
    "    L5=(a1-np.log(b1)+np.log(scipy.special.gamma(a1))+(1-a1)*scipy.special.digamma(a1)).sum()\n",
    "    L6=1/2.0*np.log(np.linalg.det(2*pi*e*diag))\n",
    "    #L7=e1-np.log(f1)+np.log(scipy.special.gamma(e1))+(1-e1)*scipy.special.digamma(e1)\n",
    "    L7=e1-np.log(f1)+log_gamma(e1)+(1-e1)*scipy.special.digamma(e1)\n",
    "    Sum.append(L1+L2+L3+L4+L5+L6+L7)\n",
    "    "
   ]
  },
  {
   "cell_type": "markdown",
   "metadata": {},
   "source": [
    "## Observe the objective function "
   ]
  },
  {
   "cell_type": "code",
   "execution_count": 45,
   "metadata": {},
   "outputs": [
    {
     "data": {
      "image/png": "[encoded data removed]",
      "text/plain": [
       "<Figure size 432x288 with 1 Axes>"
      ]
     },
     "metadata": {},
     "output_type": "display_data"
    },
    {
     "data": {
      "text/plain": [
       "<Figure size 432x288 with 0 Axes>"
      ]
     },
     "metadata": {},
     "output_type": "display_data"
    }
   ],
   "source": [
    "import matplotlib.pyplot as plt\n",
    "y=list(np.arange(1,500))\n",
    "plt.scatter(y,Sum[1:500])\n",
    "plt.xlabel('iteration')\n",
    "plt.ylabel('L')\n",
    "plt.title('Data 3')\n",
    "plt.show()\n",
    "plt.savefig('Desktop/pic1.jpg')"
   ]
  },
  {
   "cell_type": "code",
   "execution_count": 46,
   "metadata": {},
   "outputs": [
    {
     "data": {
      "image/png": "[encoded data removed]",
      "text/plain": [
       "<Figure size 432x288 with 1 Axes>"
      ]
     },
     "metadata": {},
     "output_type": "display_data"
    },
    {
     "data": {
      "text/plain": [
       "<Figure size 432x288 with 0 Axes>"
      ]
     },
     "metadata": {},
     "output_type": "display_data"
    }
   ],
   "source": [
    "y=list(np.arange(1,d+1))\n",
    "plt.scatter(y,np.array(b1/a1).reshape(d,))\n",
    "plt.xlabel('K')\n",
    "plt.ylabel('1/E(alpha)')\n",
    "plt.title('Data 3-1/E(alpha)')\n",
    "plt.show()\n",
    "plt.savefig('/Users/zhejindong/Desktop/pic2.jpg')"
   ]
  },
  {
   "cell_type": "code",
   "execution_count": 47,
   "metadata": {},
   "outputs": [
    {
     "data": {
      "text/plain": [
       "0.9771873800233014"
      ]
     },
     "execution_count": 47,
     "metadata": {},
     "output_type": "execute_result"
    }
   ],
   "source": [
    "f1/e1 # average of 1/E(lamda)"
   ]
  },
  {
   "cell_type": "code",
   "execution_count": 49,
   "metadata": {},
   "outputs": [
    {
     "data": {
      "image/png": "[encoded data removed]",
      "text/plain": [
       "<Figure size 432x288 with 1 Axes>"
      ]
     },
     "metadata": {},
     "output_type": "display_data"
    },
    {
     "data": {
      "text/plain": [
       "<Figure size 432x288 with 0 Axes>"
      ]
     },
     "metadata": {},
     "output_type": "display_data"
    }
   ],
   "source": [
    "#Eq(w)[w]\n",
    "z1=np.sort(np.array(z1).reshape(n,))\n",
    "z1=np.sort(np.array(z1))\n",
    "p1=plt.plot(z1,np.sinc(np.array(z1).reshape(n,))*10,'r',label='z3-sinc')\n",
    "y=list(np.arange(1,d+1))\n",
    "p2=plt.scatter(z1,np.array(X1.T.dot(mean)),label='data3 points')\n",
    "p3=plt.plot(z1,np.array(X1.T.dot(mean)),'g',label='z3-y')\n",
    "plt.xlabel('Z')\n",
    "plt.ylabel('Y')\n",
    "plt.legend()\n",
    "plt.title('data3')\n",
    "plt.show()\n",
    "plt.savefig('Desktop/pic3.jpg')"
   ]
  },
  {
   "cell_type": "code",
   "execution_count": null,
   "metadata": {},
   "outputs": [],
   "source": []
  }
 ],
 "metadata": {
  "kernelspec": {
   "display_name": "Python 2",
   "language": "python",
   "name": "python2"
  },
  "language_info": {
   "codemirror_mode": {
    "name": "ipython",
    "version": 2
   },
   "file_extension": ".py",
   "mimetype": "text/x-python",
   "name": "python",
   "nbconvert_exporter": "python",
   "pygments_lexer": "ipython2",
   "version": "2.7.15"
  }
 },
 "nbformat": 4,
 "nbformat_minor": 2
}
